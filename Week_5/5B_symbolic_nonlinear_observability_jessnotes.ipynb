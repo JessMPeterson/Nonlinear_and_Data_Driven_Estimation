{
  "cells": [
    {
      "cell_type": "markdown",
      "metadata": {
        "id": "LnofgfQZWsRU"
      },
      "source": [
        "# Symbolic nonlinear observability for monocular camera example"
      ]
    },
    {
      "cell_type": "code",
      "execution_count": 1,
      "metadata": {
        "id": "qChJsYYdWsRV"
      },
      "outputs": [],
      "source": [
        "import numpy as np\n",
        "import sympy as sp"
      ]
    },
    {
      "cell_type": "code",
      "execution_count": 2,
      "metadata": {
        "id": "y6Cy9H1hWsRW"
      },
      "outputs": [],
      "source": [
        "# Import functions directly from github\n",
        "# Important: note that we use raw.githubusercontent.com, not github.com\n",
        "\n",
        "import requests\n",
        "url = 'https://raw.githubusercontent.com/florisvb/Nonlinear_and_Data_Driven_Estimation/main/Utility/symbolic_derivatives.py'\n",
        "r = requests.get(url)\n",
        "\n",
        "# Store the file to the colab working directory\n",
        "with open('symbolic_derivatives.py', 'w') as f:\n",
        "    f.write(r.text)\n",
        "\n",
        "# import the function we want from that file\n",
        "import symbolic_derivatives"
      ]
    },
    {
      "cell_type": "markdown",
      "metadata": {
        "id": "JO5WU8kVWsRW"
      },
      "source": [
        "# Define states"
      ]
    },
    {
      "cell_type": "code",
      "execution_count": 3,
      "metadata": {
        "id": "DczJ37jRWsRW"
      },
      "outputs": [],
      "source": [
        "g, d = sp.symbols(['g', 'd'])\n",
        "x = [g, d]"
      ]
    },
    {
      "cell_type": "markdown",
      "metadata": {
        "id": "0o5giWUVWsRW"
      },
      "source": [
        "# Define dynamics"
      ]
    },
    {
      "cell_type": "code",
      "execution_count": 6,
      "metadata": {
        "id": "KzckbGNMWsRW"
      },
      "outputs": [],
      "source": [
        "f_0 = sp.Matrix([0,\n",
        "                 0])\n",
        "f_1 = sp.Matrix([1,\n",
        "                 0])"
      ]
    },
    {
      "cell_type": "markdown",
      "metadata": {
        "id": "Nx_wOFSYWsRW"
      },
      "source": [
        "# Define measurements"
      ]
    },
    {
      "cell_type": "code",
      "execution_count": 5,
      "metadata": {
        "id": "Xb9_AwlUWsRW"
      },
      "outputs": [],
      "source": [
        "h = sp.Matrix([g/d])"
      ]
    },
    {
      "cell_type": "markdown",
      "metadata": {
        "id": "HKJj5qjVWsRW"
      },
      "source": [
        "# Calculate each term in G"
      ]
    },
    {
      "cell_type": "code",
      "execution_count": 7,
      "metadata": {
        "id": "LIuP5hcUWsRW"
      },
      "outputs": [],
      "source": [
        "L_f0_h = symbolic_derivatives.directional_derivative(h, x, f_0)\n",
        "L_f1_h = symbolic_derivatives.directional_derivative(h, x, f_1)\n",
        "L_f1_f1_h = symbolic_derivatives.directional_derivative(L_f1_h, x, f_1)"
      ]
    },
    {
      "cell_type": "markdown",
      "metadata": {
        "id": "gUq2HEiIWsRX"
      },
      "source": [
        "# Assemble G, take Jacobian"
      ]
    },
    {
      "cell_type": "code",
      "execution_count": 8,
      "metadata": {
        "scrolled": true,
        "id": "wBiIWHttWsRX"
      },
      "outputs": [],
      "source": [
        "G = sp.Matrix([h, L_f0_h, L_f1_h])"
      ]
    },
    {
      "cell_type": "code",
      "execution_count": 13,
      "metadata": {
        "id": "v2dwOXiKWsRX",
        "outputId": "3d8cff9e-912c-4752-f8b3-389935cc5882",
        "colab": {
          "base_uri": "https://localhost:8080/",
          "height": 78
        }
      },
      "outputs": [
        {
          "output_type": "execute_result",
          "data": {
            "text/plain": [
              "Matrix([\n",
              "[1/d, -g/d**2],\n",
              "[  0,       0],\n",
              "[  0, -1/d**2]])"
            ],
            "text/latex": "$\\displaystyle \\left[\\begin{matrix}\\frac{1}{d} & - \\frac{g}{d^{2}}\\\\0 & 0\\\\0 & - \\frac{1}{d^{2}}\\end{matrix}\\right]$"
          },
          "metadata": {},
          "execution_count": 13
        }
      ],
      "source": [
        "G.jacobian(x)"
      ]
    },
    {
      "cell_type": "code",
      "source": [
        "L_f0_h"
      ],
      "metadata": {
        "id": "rSPJJSRsXyhx",
        "outputId": "bb8938c3-faab-46c1-963e-d030dd14720f",
        "colab": {
          "base_uri": "https://localhost:8080/",
          "height": 38
        }
      },
      "execution_count": 9,
      "outputs": [
        {
          "output_type": "execute_result",
          "data": {
            "text/plain": [
              "Matrix([[0]])"
            ],
            "text/latex": "$\\displaystyle \\left[\\begin{matrix}0\\end{matrix}\\right]$"
          },
          "metadata": {},
          "execution_count": 9
        }
      ]
    },
    {
      "cell_type": "code",
      "source": [
        "L_f1_h"
      ],
      "metadata": {
        "id": "dpomngddX3qD",
        "outputId": "337d6679-84ff-40a9-ed29-a6c83a53c2c8",
        "colab": {
          "base_uri": "https://localhost:8080/",
          "height": 38
        }
      },
      "execution_count": 10,
      "outputs": [
        {
          "output_type": "execute_result",
          "data": {
            "text/plain": [
              "Matrix([[1/d]])"
            ],
            "text/latex": "$\\displaystyle \\left[\\begin{matrix}\\frac{1}{d}\\end{matrix}\\right]$"
          },
          "metadata": {},
          "execution_count": 10
        }
      ]
    },
    {
      "cell_type": "code",
      "source": [],
      "metadata": {
        "id": "Zvzlr2H2YAmb"
      },
      "execution_count": null,
      "outputs": []
    },
    {
      "cell_type": "markdown",
      "metadata": {
        "id": "_KJXDcLIWsRX"
      },
      "source": [
        "# Plug in x0"
      ]
    },
    {
      "cell_type": "code",
      "execution_count": 11,
      "metadata": {
        "id": "Rkr8F19DWsRX"
      },
      "outputs": [],
      "source": [
        "x0 = {g: 1, d: 2}"
      ]
    },
    {
      "cell_type": "code",
      "execution_count": 12,
      "metadata": {
        "id": "GS4KzJCwWsRX",
        "outputId": "b8ea9ed5-38db-4404-a3f7-637fd0b8380f",
        "colab": {
          "base_uri": "https://localhost:8080/",
          "height": 78
        }
      },
      "outputs": [
        {
          "output_type": "execute_result",
          "data": {
            "text/plain": [
              "Matrix([\n",
              "[1/2, -1/4],\n",
              "[  0,    0],\n",
              "[  0, -1/4]])"
            ],
            "text/latex": "$\\displaystyle \\left[\\begin{matrix}\\frac{1}{2} & - \\frac{1}{4}\\\\0 & 0\\\\0 & - \\frac{1}{4}\\end{matrix}\\right]$"
          },
          "metadata": {},
          "execution_count": 12
        }
      ],
      "source": [
        "G.jacobian(x).subs(x0)"
      ]
    },
    {
      "cell_type": "code",
      "source": [
        "G.jacobian(x).subs(x0).rank()"
      ],
      "metadata": {
        "id": "GyPSxNqLYUWU",
        "outputId": "4576f3e0-c880-4aca-ecd1-0284539a7c38",
        "colab": {
          "base_uri": "https://localhost:8080/"
        }
      },
      "execution_count": 14,
      "outputs": [
        {
          "output_type": "execute_result",
          "data": {
            "text/plain": [
              "2"
            ]
          },
          "metadata": {},
          "execution_count": 14
        }
      ]
    },
    {
      "cell_type": "markdown",
      "metadata": {
        "id": "cOJIbSIpWsRX"
      },
      "source": [
        "# Shortcut function to get G:"
      ]
    },
    {
      "cell_type": "markdown",
      "metadata": {
        "id": "rtnZMVQZWsRX"
      },
      "source": [
        "### First derivatives"
      ]
    },
    {
      "cell_type": "code",
      "execution_count": 18,
      "metadata": {
        "id": "gKtUXQobWsRY",
        "outputId": "009c8a7e-1ba8-4fc4-bc1d-c49bb84f91eb",
        "colab": {
          "base_uri": "https://localhost:8080/"
        }
      },
      "outputs": [
        {
          "output_type": "execute_result",
          "data": {
            "text/plain": [
              "[Matrix([[g/d]]), Matrix([[0]]), Matrix([[1/d]])]"
            ]
          },
          "metadata": {},
          "execution_count": 18
        }
      ],
      "source": [
        "G1 =  symbolic_derivatives.get_bigO( h,\n",
        "                                    x,\n",
        "                                    [f_0,\n",
        "                                     f_1],\n",
        "                                   )\n",
        "G1"
      ]
    },
    {
      "cell_type": "markdown",
      "metadata": {
        "id": "Z3l4NzWsWsRY"
      },
      "source": [
        "### Second derivatives"
      ]
    },
    {
      "cell_type": "code",
      "execution_count": 19,
      "metadata": {
        "id": "hyf9xHRgWsRY",
        "outputId": "4936c27b-26e5-4977-b863-0bcd3f9a5fbf",
        "colab": {
          "base_uri": "https://localhost:8080/"
        }
      },
      "outputs": [
        {
          "output_type": "execute_result",
          "data": {
            "text/plain": [
              "[Matrix([\n",
              " [g/d],\n",
              " [  0],\n",
              " [1/d]]),\n",
              " Matrix([\n",
              " [0],\n",
              " [0],\n",
              " [0]]),\n",
              " Matrix([\n",
              " [1/d],\n",
              " [  0],\n",
              " [  0]])]"
            ]
          },
          "metadata": {},
          "execution_count": 19
        }
      ],
      "source": [
        "G2 =  symbolic_derivatives.get_bigO( sp.Matrix.vstack(*G1),\n",
        "                                    x,\n",
        "                                    [f_0,\n",
        "                                     f_1],\n",
        "                                   )\n",
        "G2"
      ]
    },
    {
      "cell_type": "code",
      "execution_count": 17,
      "metadata": {
        "id": "EOfPeSBNWsRY",
        "outputId": "3817ecf3-7b53-41d9-9c0b-9993beab4a92",
        "colab": {
          "base_uri": "https://localhost:8080/",
          "height": 261
        }
      },
      "outputs": [
        {
          "output_type": "execute_result",
          "data": {
            "text/plain": [
              "Matrix([\n",
              "[g/d],\n",
              "[  0],\n",
              "[1/d],\n",
              "[g/d],\n",
              "[  0],\n",
              "[1/d],\n",
              "[  0],\n",
              "[  0],\n",
              "[  0],\n",
              "[1/d],\n",
              "[  0],\n",
              "[  0]])"
            ],
            "text/latex": "$\\displaystyle \\left[\\begin{matrix}\\frac{g}{d}\\\\0\\\\\\frac{1}{d}\\\\\\frac{g}{d}\\\\0\\\\\\frac{1}{d}\\\\0\\\\0\\\\0\\\\\\frac{1}{d}\\\\0\\\\0\\end{matrix}\\right]$"
          },
          "metadata": {},
          "execution_count": 17
        }
      ],
      "source": [
        "G = sp.Matrix.vstack(*G1, *G2)\n",
        "G"
      ]
    },
    {
      "cell_type": "code",
      "execution_count": null,
      "metadata": {
        "id": "yR_0OFkoWsRY"
      },
      "outputs": [],
      "source": []
    }
  ],
  "metadata": {
    "kernelspec": {
      "display_name": "PY38",
      "language": "python",
      "name": "py38"
    },
    "language_info": {
      "codemirror_mode": {
        "name": "ipython",
        "version": 3
      },
      "file_extension": ".py",
      "mimetype": "text/x-python",
      "name": "python",
      "nbconvert_exporter": "python",
      "pygments_lexer": "ipython3",
      "version": "3.8.6"
    },
    "colab": {
      "provenance": []
    }
  },
  "nbformat": 4,
  "nbformat_minor": 0
}